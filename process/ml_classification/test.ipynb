{
 "cells": [
  {
   "cell_type": "code",
   "execution_count": 1,
   "metadata": {},
   "outputs": [
    {
     "data": {
      "text/plain": [
       "4"
      ]
     },
     "execution_count": 1,
     "metadata": {},
     "output_type": "execute_result"
    }
   ],
   "source": [
    "import os\n",
    "\n",
    "os.cpu_count() \n"
   ]
  },
  {
   "cell_type": "code",
   "execution_count": 4,
   "metadata": {},
   "outputs": [
    {
     "name": "stdout",
     "output_type": "stream",
     "text": [
      "The CPU usage is :  76.79443359375 3.07177734375\n"
     ]
    }
   ],
   "source": [
    "import os\n",
    "import psutil\n",
    "  \n",
    "# Getting loadover15 minutes\n",
    "load1, load5, load15 = psutil.getloadavg()\n",
    "  \n",
    "cpu_usage = (load15/os.cpu_count()) * 100\n",
    "  \n",
    "print(\"The CPU usage is : \", cpu_usage, load15)"
   ]
  }
 ],
 "metadata": {
  "kernelspec": {
   "display_name": "Python 3.8.8 ('base')",
   "language": "python",
   "name": "python3"
  },
  "language_info": {
   "codemirror_mode": {
    "name": "ipython",
    "version": 3
   },
   "file_extension": ".py",
   "mimetype": "text/x-python",
   "name": "python",
   "nbconvert_exporter": "python",
   "pygments_lexer": "ipython3",
   "version": "3.8.8"
  },
  "orig_nbformat": 4,
  "vscode": {
   "interpreter": {
    "hash": "d31d9d7519a8d54d23ec4f9251e56fe740d8d9c505edaa9e188acdb3bd6a5527"
   }
  }
 },
 "nbformat": 4,
 "nbformat_minor": 2
}
