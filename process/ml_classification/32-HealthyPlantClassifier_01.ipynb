{
 "cells": [
  {
   "cell_type": "markdown",
   "metadata": {},
   "source": [
    "# `Healthy Plantes Classifier`"
   ]
  },
  {
   "cell_type": "code",
   "execution_count": 6,
   "metadata": {},
   "outputs": [],
   "source": [
    "# Lib & Dependencies\n",
    "import os\n",
    "import sys\n",
    "import time\n",
    "import random as rd\n",
    "import pandas as pd\n",
    "import numpy as np\n",
    "import seaborn as sns\n",
    "from tqdm import tqdm\n",
    "\n",
    "from collections import Counter\n",
    "from itertools import repeat\n",
    "import concurrent.futures\n",
    "\n",
    "# import sweetviz as sv\n",
    "from scipy import stats\n",
    "import matplotlib.pyplot as plt\n",
    "\n",
    "from sklearn.preprocessing import MinMaxScaler, LabelEncoder, OneHotEncoder\n",
    "\n",
    "import xgboost as xgb\n",
    "from sklearn.svm import SVC\n",
    "from sklearn.ensemble import RandomForestClassifier\n",
    "from sklearn.ensemble import ExtraTreesClassifier\n",
    "from sklearn.neural_network import MLPClassifier\n",
    "# from sklearn.tree import DecisionTreeClassifier\n",
    "# from sklearn.ensemble import VotingClassifier\n",
    "\n",
    "# from sklearn.neighbors import KNeighborsClassifier\n",
    "# from sklearn.linear_model import RidgeClassifierCV\n",
    "# from sklearn.neighbors import RadiusNeighborsClassifier\n",
    "# from sklearn.tree import ExtraTreeClassifier\n",
    "\n",
    "\n",
    "from sklearn.model_selection import GridSearchCV, RandomizedSearchCV\n",
    "from sklearn.feature_selection import RFECV\n",
    "\n",
    "from sklearn.model_selection import train_test_split\n",
    "from sklearn.metrics import accuracy_score, f1_score, confusion_matrix, classification_report"
   ]
  },
  {
   "cell_type": "markdown",
   "metadata": {},
   "source": [
    "#### 1. Load and process data"
   ]
  },
  {
   "cell_type": "code",
   "execution_count": 7,
   "metadata": {},
   "outputs": [
    {
     "name": "stdout",
     "output_type": "stream",
     "text": [
      "(190954, 1109)\n"
     ]
    }
   ],
   "source": [
    "# import h5py\n",
    "# filename = '../data/preprocess/ALL/augmentation/export/data_all_all_graycoprops_lpb_histogram_hue_moment_haralick_histogram_hsv_histogram_lab_pyfeats.h5'\n",
    "\n",
    "# df_features = pd.DataFrame()\n",
    "\n",
    "# hf = h5py.File(filename, 'r')\n",
    "\n",
    "# for f in tqdm(hf.keys()):\n",
    "#     df_features[f] = list(hf[f])\n",
    "\n",
    "# hf.close()\n",
    "# df_features['classes'] = df_features.classes.apply(lambda l: l.decode(\"utf-8\"))\n",
    "# df_features = df_features.copy()\n",
    "# df_features.shape\n",
    "\n",
    "filename = '../data/preprocess/ALL/augmentation/export/data_all_all_graycoprops_lpb_histogram_hue_moment_haralick_histogram_hsv_histogram_lab_pyfeats.pkl'\n",
    "df_features = pd.read_pickle(filename)\n",
    "print(df_features.shape)"
   ]
  },
  {
   "cell_type": "markdown",
   "metadata": {},
   "source": [
    "##### Data normalisation"
   ]
  },
  {
   "cell_type": "code",
   "execution_count": 8,
   "metadata": {},
   "outputs": [],
   "source": [
    "# %time df_features[[f for f in df_features.columns if f != 'classes']]=MinMaxScaler().fit_transform(df_features[[f for f in df_features.columns if f != 'classes']].to_numpy()).astype(np.float32)"
   ]
  },
  {
   "cell_type": "markdown",
   "metadata": {},
   "source": [
    "##### Healthy Labeling"
   ]
  },
  {
   "cell_type": "code",
   "execution_count": 9,
   "metadata": {},
   "outputs": [],
   "source": [
    "# Set label = (healthy or not)\n",
    "df_features['label'] = df_features.classes.apply(lambda l: 1*('healthy' in l))"
   ]
  },
  {
   "cell_type": "code",
   "execution_count": 10,
   "metadata": {},
   "outputs": [
    {
     "name": "stdout",
     "output_type": "stream",
     "text": [
      "(190954, 1110) (133667, 1108) (57287, 1108) (133667,) (57287,)\n",
      "CPU times: user 1.45 s, sys: 400 ms, total: 1.85 s\n",
      "Wall time: 1.93 s\n"
     ]
    }
   ],
   "source": [
    "%%time \n",
    "X_train, X_test, y_train, y_test = train_test_split(df_features.drop(columns=['label','classes']), df_features['label'], test_size=0.3, random_state=42)\n",
    "print(df_features.shape, X_train.shape, X_test.shape, y_train.shape, y_test.shape)"
   ]
  },
  {
   "cell_type": "code",
   "execution_count": 11,
   "metadata": {},
   "outputs": [],
   "source": [
    "def accuracy_classification_report(y_test, preds, col):\n",
    "  confusion_mtx = {\n",
    "      'y_Actual': np.array(y_test),\n",
    "      'y_Predicted': preds\n",
    "  }\n",
    "\n",
    "  confusion_df = pd.DataFrame(confusion_mtx, columns=['y_Actual','y_Predicted'])    \n",
    "\n",
    "  score = (stats.spearmanr(confusion_df['y_Actual'], confusion_df['y_Predicted']))[0]\n",
    "\n",
    "  print('Score as calculated for the leader board (っಠ‿ಠ)っ {}'.format(score))\n",
    "  print('Accuracy Score :',accuracy_score(confusion_df['y_Actual'], confusion_df['y_Predicted']))\n",
    "  print(classification_report(confusion_df['y_Actual'], confusion_df['y_Predicted'], target_names=col))\n",
    "\n",
    "# Heat map : show the confusion matrix\n",
    "def heat_map(preds, y_test, col, filename=''): \n",
    "    cf_matrix = confusion_matrix(y_test, preds)\n",
    "    group_counts = [\"{:0.0f}\".format(value) for value in cf_matrix.flatten()]\n",
    "    group_percentages = [\"{0:.2%}\".format(value) \\\n",
    "                         for value in cf_matrix.flatten()/np.sum(cf_matrix)]\n",
    "    labels = [f\"{v1}\\n{v2}\" for v1, v2 in \\\n",
    "              zip(group_counts,group_percentages)]\n",
    "    labels = np.asarray(labels).reshape(len(col),len(col))\n",
    "    \n",
    "    cf_matrix = pd.DataFrame(cf_matrix, columns=col, index=col)\n",
    "    \n",
    "    # plt.figure(figsize = (32,16))\n",
    "    sns.heatmap(cf_matrix, annot=labels, fmt='', cmap='Blues')\n",
    "    if filename == '':\n",
    "      plt.show()\n",
    "    else:\n",
    "      plt.savefig(filename)\n",
    "\n",
    "# Fit the model model \n",
    "def fit_model(X_train, y_train, model_):\n",
    "    print(f\"======   The model used is : {model_}   ========\\n\")\n",
    "    \n",
    "    model = models[model_]\n",
    "    model.fit(X_train, y_train)\n",
    "\n",
    "    return model\n",
    "\n",
    "# Test the prediction model \n",
    "def prediction_hackathon( X_test, y_test, model, model_, col=['Unhealthy','Healthy']):\n",
    "    print(f\"======   The model used is : {model_}   ========\\n\")\n",
    "    \n",
    "    if not vrb_seuil:\n",
    "      # preds_train = model.predict(X_train) \n",
    "      preds = model.predict(X_test)\n",
    "    else:\n",
    "      # preds_train = (model.predict_proba(X_train)[:,1]>=seuil).astype(int)\n",
    "      preds = (model.predict_proba(X_test)[:,1]>=seuil).astype(int)\n",
    "\n",
    "\n",
    "    accuracy_classification_report(y_test, preds, col)\n",
    "    \n",
    "    # # Accuracy of the Test data\n",
    "    print(f\"\\n==> Accuracy Score for the test data : {100 * accuracy_score(y_test, preds):.2f}\")\n",
    "        \n",
    "    # Spearman correlation for the test data\n",
    "    print(f\"\\n==> The SPEARMAN CORRELATION of the test data is : {100 * stats.spearmanr(y_test, preds)[0]:.2f}\")\n",
    "    \n",
    "    global df_accuracy\n",
    "    df_accuracy.loc[model_, 'SPEARMAN CORRELATION'] = 100 * stats.spearmanr(y_test, preds)[0]\n",
    "    df_accuracy.loc[model_, 'Accuracy Score']       = 100 * accuracy_score(y_test, preds)\n",
    "    df_accuracy.loc[model_, 'F1 Score macro']       = 100 * f1_score(y_test, preds, average='macro')\n",
    "    df_accuracy.loc[model_, 'F1 Score weighted']    = 100 * f1_score(y_test, preds, average='weighted')\n",
    "    \n",
    "    # Heat Map\n",
    "    heat_map(preds, y_test, col)\n",
    "    # heat_map(preds, y_test, col, filename=f'plots/heatmape_{model_}.png')"
   ]
  },
  {
   "cell_type": "code",
   "execution_count": 17,
   "metadata": {},
   "outputs": [
    {
     "name": "stdout",
     "output_type": "stream",
     "text": [
      "CPU times: user 616 µs, sys: 6 µs, total: 622 µs\n",
      "Wall time: 631 µs\n"
     ]
    }
   ],
   "source": [
    "%%time\n",
    "# xgb.set_config(verbosity=3)\n",
    "xgc = xgb.XGBClassifier(use_label_encoder=False, objective='binary:logistic', eval_metric=f1_score, n_estimators=3000, n_jobs=-1)\n",
    "# svc = SVC(kernel='poly', degree=6, random_state=42, cache_size=1000) # Polynomial Kernel\n",
    "rfc = RandomForestClassifier(n_estimators=3000, n_jobs=-1, verbose=0)\n",
    "etc = ExtraTreesClassifier(n_estimators=3000, n_jobs=-1, verbose=0)\n",
    "# dtc = DecisionTreeClassifier()\n",
    "# knc = KNeighborsClassifier()\n",
    "# mlp = MLPClassifier(activation='relu', alpha=0.05, solver='adam', hidden_layer_sizes=(1024,256,68,16), max_iter=10000, verbose=0)\n",
    "# rgc = RidgeClassifierCV()\n",
    "# rnc = RadiusNeighborsClassifier()\n",
    "# ett = ExtraTreeClassifier()\n",
    "\n",
    "# vcc = VotingClassifier(estimators=[('dtc', dtc), ('etc', etc), ('xgc', xgc), ('rfc', rfc), ('mlp', mlp)], voting='hard')\n",
    "\n",
    "seuil = 0.5\n",
    "vrb_seuil = False\n",
    "model_target = {}\n",
    "df_accuracy  = pd.DataFrame()\n",
    "\n",
    "# models = dict([('xgc', xgc), ('dtc', dtc), ('etc', etc), ('ett', ett), ('rfc', rfc), ('rgc', rgc), ('rnc', rnc), ('knc', knc), ('mlp', mlp), ('vcc', vcc)])\n",
    "models = dict([('rfc', rfc), ('etc', etc), ('xgc', xgc)])\n",
    "\n"
   ]
  },
  {
   "cell_type": "code",
   "execution_count": 16,
   "metadata": {},
   "outputs": [
    {
     "name": "stdout",
     "output_type": "stream",
     "text": [
      "======   The model used is : rfc   ========\n",
      "\n",
      "CPU times: user 2h 9min 51s, sys: 3.63 s, total: 2h 9min 55s\n",
      "Wall time: 5min 1s\n",
      "======   The model used is : rfc   ========\n",
      "\n",
      "Score as calculated for the leader board (っಠ‿ಠ)っ 0.9777974926197305\n",
      "Accuracy Score : 0.9904341299073088\n",
      "              precision    recall  f1-score   support\n",
      "\n",
      "   Unhealthy       0.99      0.99      0.99     39271\n",
      "     Healthy       0.99      0.98      0.98     18016\n",
      "\n",
      "    accuracy                           0.99     57287\n",
      "   macro avg       0.99      0.99      0.99     57287\n",
      "weighted avg       0.99      0.99      0.99     57287\n",
      "\n",
      "\n",
      "==> Accuracy Score for the test data : 99.04\n",
      "\n",
      "==> The SPEARMAN CORRELATION of the test data is : 97.78\n"
     ]
    },
    {
     "data": {
      "image/png": "[encoded data removed]",
      "text/plain": [
       "<Figure size 432x288 with 2 Axes>"
      ]
     },
     "metadata": {
      "needs_background": "light"
     },
     "output_type": "display_data"
    },
    {
     "name": "stdout",
     "output_type": "stream",
     "text": [
      "CPU times: user 1min 56s, sys: 3.45 s, total: 1min 59s\n",
      "Wall time: 14.2 s\n",
      "======   The model used is : etc   ========\n",
      "\n",
      "CPU times: user 2h 28min 6s, sys: 13.9 s, total: 2h 28min 20s\n",
      "Wall time: 5min 8s\n",
      "======   The model used is : etc   ========\n",
      "\n",
      "Score as calculated for the leader board (っಠ‿ಠ)っ 0.97696753804795\n",
      "Accuracy Score : 0.9900850105608602\n",
      "              precision    recall  f1-score   support\n",
      "\n",
      "   Unhealthy       0.99      1.00      0.99     39271\n",
      "     Healthy       0.99      0.98      0.98     18016\n",
      "\n",
      "    accuracy                           0.99     57287\n",
      "   macro avg       0.99      0.99      0.99     57287\n",
      "weighted avg       0.99      0.99      0.99     57287\n",
      "\n",
      "\n",
      "==> Accuracy Score for the test data : 99.01\n",
      "\n",
      "==> The SPEARMAN CORRELATION of the test data is : 97.70\n"
     ]
    },
    {
     "data": {
      "image/png": "[encoded data removed]",
      "text/plain": [
       "<Figure size 432x288 with 2 Axes>"
      ]
     },
     "metadata": {
      "needs_background": "light"
     },
     "output_type": "display_data"
    },
    {
     "name": "stdout",
     "output_type": "stream",
     "text": [
      "CPU times: user 2min 43s, sys: 1.9 s, total: 2min 45s\n",
      "Wall time: 15.2 s\n",
      "======   The model used is : xgc   ========\n",
      "\n",
      "CPU times: user 14h 8min 16s, sys: 46.6 s, total: 14h 9min 3s\n",
      "Wall time: 24min 20s\n",
      "======   The model used is : xgc   ========\n",
      "\n",
      "Score as calculated for the leader board (っಠ‿ಠ)っ 0.9929995012779794\n",
      "Accuracy Score : 0.9969801176532197\n",
      "              precision    recall  f1-score   support\n",
      "\n",
      "   Unhealthy       1.00      1.00      1.00     39271\n",
      "     Healthy       0.99      1.00      1.00     18016\n",
      "\n",
      "    accuracy                           1.00     57287\n",
      "   macro avg       1.00      1.00      1.00     57287\n",
      "weighted avg       1.00      1.00      1.00     57287\n",
      "\n",
      "\n",
      "==> Accuracy Score for the test data : 99.70\n",
      "\n",
      "==> The SPEARMAN CORRELATION of the test data is : 99.30\n"
     ]
    },
    {
     "data": {
      "image/png": "[encoded data removed]",
      "text/plain": [
       "<Figure size 432x288 with 2 Axes>"
      ]
     },
     "metadata": {
      "needs_background": "light"
     },
     "output_type": "display_data"
    },
    {
     "name": "stdout",
     "output_type": "stream",
     "text": [
      "CPU times: user 9 s, sys: 179 ms, total: 9.18 s\n",
      "Wall time: 493 ms\n",
      "     SPEARMAN CORRELATION  Accuracy Score  F1 Score macro  F1 Score weighted\n",
      "rfc             97.779749       99.043413       98.889738          99.042995\n",
      "etc             97.696754       99.008501       98.846109          99.006718\n",
      "xgc             99.299950       99.698012       99.649945          99.698073\n"
     ]
    }
   ],
   "source": [
    "for md_ in models.keys():\n",
    "     %time model_target[md_] = fit_model(X_train, y_train, md_)\n",
    "     %time prediction_hackathon( X_test, y_test, model_target[md_], md_)\n",
    "\n",
    "print(df_accuracy)"
   ]
  },
  {
   "cell_type": "code",
   "execution_count": 19,
   "metadata": {},
   "outputs": [
    {
     "name": "stdout",
     "output_type": "stream",
     "text": [
      "======   The model used is : sgdb   ========\n",
      "\n"
     ]
    },
    {
     "name": "stderr",
     "output_type": "stream",
     "text": [
      "/home/dev/.pyenv/versions/3.8.12/lib/python3.8/site-packages/sklearn/linear_model/_stochastic_gradient.py:705: ConvergenceWarning: Maximum number of iteration reached before convergence. Consider increasing max_iter to improve the fit.\n",
      "  warnings.warn(\n"
     ]
    },
    {
     "name": "stdout",
     "output_type": "stream",
     "text": [
      "CPU times: user 5min 8s, sys: 756 ms, total: 5min 9s\n",
      "Wall time: 5min 9s\n",
      "======   The model used is : sgdb   ========\n",
      "\n",
      "Score as calculated for the leader board (っಠ‿ಠ)っ 0.5358195972445903\n",
      "Accuracy Score : 0.8008797807530504\n",
      "              precision    recall  f1-score   support\n",
      "\n",
      "   Unhealthy       0.85      0.86      0.86     39271\n",
      "     Healthy       0.69      0.67      0.68     18016\n",
      "\n",
      "    accuracy                           0.80     57287\n",
      "   macro avg       0.77      0.77      0.77     57287\n",
      "weighted avg       0.80      0.80      0.80     57287\n",
      "\n",
      "\n",
      "==> Accuracy Score for the test data : 80.09\n",
      "\n",
      "==> The SPEARMAN CORRELATION of the test data is : 53.58\n"
     ]
    },
    {
     "data": {
      "image/png": "[encoded data removed]",
      "text/plain": [
       "<Figure size 432x288 with 2 Axes>"
      ]
     },
     "metadata": {
      "needs_background": "light"
     },
     "output_type": "display_data"
    },
    {
     "name": "stdout",
     "output_type": "stream",
     "text": [
      "CPU times: user 1.26 s, sys: 1.07 s, total: 2.33 s\n",
      "Wall time: 939 ms\n",
      "      SPEARMAN CORRELATION  Accuracy Score  F1 Score macro  F1 Score weighted\n",
      "sgdb              53.58196       80.087978       76.787315          80.034958\n"
     ]
    }
   ],
   "source": [
    "from sklearn.linear_model import SGDClassifier\n",
    "\n",
    "sgdb = SGDClassifier(loss='squared_hinge',n_jobs=-1)\n",
    "\n",
    "models = dict([('sgdb', sgdb)])\n",
    "for md_ in models.keys():\n",
    "    %time model_target[md_] = fit_model(X_train, y_train, md_)\n",
    "    %time prediction_hackathon( X_test, y_test, model_target[md_], md_)\n",
    "\n",
    "print(df_accuracy)"
   ]
  },
  {
   "cell_type": "code",
   "execution_count": 20,
   "metadata": {},
   "outputs": [
    {
     "name": "stdout",
     "output_type": "stream",
     "text": [
      "======   The model used is : svcp5   ========\n",
      "\n",
      "CPU times: user 58min 31s, sys: 4.33 s, total: 58min 36s\n",
      "Wall time: 58min 44s\n",
      "======   The model used is : svcp5   ========\n",
      "\n",
      "Score as calculated for the leader board (っಠ‿ಠ)っ 0.9142210237164294\n",
      "Accuracy Score : 0.9630108052437726\n",
      "              precision    recall  f1-score   support\n",
      "\n",
      "   Unhealthy       0.97      0.97      0.97     39271\n",
      "     Healthy       0.94      0.94      0.94     18016\n",
      "\n",
      "    accuracy                           0.96     57287\n",
      "   macro avg       0.96      0.96      0.96     57287\n",
      "weighted avg       0.96      0.96      0.96     57287\n",
      "\n",
      "\n",
      "==> Accuracy Score for the test data : 96.30\n",
      "\n",
      "==> The SPEARMAN CORRELATION of the test data is : 91.42\n"
     ]
    },
    {
     "data": {
      "image/png": "[encoded data removed]",
      "text/plain": [
       "<Figure size 432x288 with 2 Axes>"
      ]
     },
     "metadata": {
      "needs_background": "light"
     },
     "output_type": "display_data"
    },
    {
     "name": "stdout",
     "output_type": "stream",
     "text": [
      "CPU times: user 18min 21s, sys: 1.37 s, total: 18min 23s\n",
      "Wall time: 18min 25s\n",
      "======   The model used is : svcp6   ========\n",
      "\n",
      "CPU times: user 52min 41s, sys: 1.14 s, total: 52min 43s\n",
      "Wall time: 52min 52s\n",
      "======   The model used is : svcp6   ========\n",
      "\n",
      "Score as calculated for the leader board (っಠ‿ಠ)っ 0.9226664213015989\n",
      "Accuracy Score : 0.9666591024141603\n",
      "              precision    recall  f1-score   support\n",
      "\n",
      "   Unhealthy       0.98      0.98      0.98     39271\n",
      "     Healthy       0.95      0.95      0.95     18016\n",
      "\n",
      "    accuracy                           0.97     57287\n",
      "   macro avg       0.96      0.96      0.96     57287\n",
      "weighted avg       0.97      0.97      0.97     57287\n",
      "\n",
      "\n",
      "==> Accuracy Score for the test data : 96.67\n",
      "\n",
      "==> The SPEARMAN CORRELATION of the test data is : 92.27\n"
     ]
    },
    {
     "data": {
      "image/png": "[encoded data removed]",
      "text/plain": [
       "<Figure size 432x288 with 2 Axes>"
      ]
     },
     "metadata": {
      "needs_background": "light"
     },
     "output_type": "display_data"
    },
    {
     "name": "stdout",
     "output_type": "stream",
     "text": [
      "CPU times: user 15min 48s, sys: 205 ms, total: 15min 48s\n",
      "Wall time: 15min 52s\n",
      "======   The model used is : svcp7   ========\n",
      "\n",
      "CPU times: user 50min 41s, sys: 599 ms, total: 50min 42s\n",
      "Wall time: 50min 51s\n",
      "======   The model used is : svcp7   ========\n",
      "\n",
      "Score as calculated for the leader board (っಠ‿ಠ)っ 0.928562172693763\n",
      "Accuracy Score : 0.9691902176759125\n",
      "              precision    recall  f1-score   support\n",
      "\n",
      "   Unhealthy       0.98      0.98      0.98     39271\n",
      "     Healthy       0.95      0.95      0.95     18016\n",
      "\n",
      "    accuracy                           0.97     57287\n",
      "   macro avg       0.96      0.96      0.96     57287\n",
      "weighted avg       0.97      0.97      0.97     57287\n",
      "\n",
      "\n",
      "==> Accuracy Score for the test data : 96.92\n",
      "\n",
      "==> The SPEARMAN CORRELATION of the test data is : 92.86\n"
     ]
    },
    {
     "data": {
      "image/png": "[encoded data removed]",
      "text/plain": [
       "<Figure size 432x288 with 2 Axes>"
      ]
     },
     "metadata": {
      "needs_background": "light"
     },
     "output_type": "display_data"
    },
    {
     "name": "stdout",
     "output_type": "stream",
     "text": [
      "CPU times: user 15min 6s, sys: 260 ms, total: 15min 6s\n",
      "Wall time: 15min 9s\n",
      "======   The model used is : svcp8   ========\n",
      "\n",
      "CPU times: user 53min 12s, sys: 742 ms, total: 53min 12s\n",
      "Wall time: 53min 23s\n",
      "======   The model used is : svcp8   ========\n",
      "\n",
      "Score as calculated for the leader board (っಠ‿ಠ)っ 0.934421986735952\n",
      "Accuracy Score : 0.9717213329376647\n",
      "              precision    recall  f1-score   support\n",
      "\n",
      "   Unhealthy       0.98      0.98      0.98     39271\n",
      "     Healthy       0.95      0.96      0.96     18016\n",
      "\n",
      "    accuracy                           0.97     57287\n",
      "   macro avg       0.97      0.97      0.97     57287\n",
      "weighted avg       0.97      0.97      0.97     57287\n",
      "\n",
      "\n",
      "==> Accuracy Score for the test data : 97.17\n",
      "\n",
      "==> The SPEARMAN CORRELATION of the test data is : 93.44\n"
     ]
    },
    {
     "data": {
      "image/png": "[encoded data removed]",
      "text/plain": [
       "<Figure size 432x288 with 2 Axes>"
      ]
     },
     "metadata": {
      "needs_background": "light"
     },
     "output_type": "display_data"
    },
    {
     "name": "stdout",
     "output_type": "stream",
     "text": [
      "CPU times: user 17min 8s, sys: 496 ms, total: 17min 9s\n",
      "Wall time: 17min 12s\n",
      "======   The model used is : svcp9   ========\n",
      "\n",
      "CPU times: user 46min 39s, sys: 408 ms, total: 46min 39s\n",
      "Wall time: 46min 40s\n",
      "======   The model used is : svcp9   ========\n",
      "\n",
      "Score as calculated for the leader board (っಠ‿ಠ)っ 0.938617185850724\n",
      "Accuracy Score : 0.9735367535391973\n",
      "              precision    recall  f1-score   support\n",
      "\n",
      "   Unhealthy       0.98      0.98      0.98     39271\n",
      "     Healthy       0.96      0.96      0.96     18016\n",
      "\n",
      "    accuracy                           0.97     57287\n",
      "   macro avg       0.97      0.97      0.97     57287\n",
      "weighted avg       0.97      0.97      0.97     57287\n",
      "\n",
      "\n",
      "==> Accuracy Score for the test data : 97.35\n",
      "\n",
      "==> The SPEARMAN CORRELATION of the test data is : 93.86\n"
     ]
    },
    {
     "data": {
      "image/png": "[encoded data removed]",
      "text/plain": [
       "<Figure size 432x288 with 2 Axes>"
      ]
     },
     "metadata": {
      "needs_background": "light"
     },
     "output_type": "display_data"
    },
    {
     "name": "stdout",
     "output_type": "stream",
     "text": [
      "CPU times: user 11min 13s, sys: 278 ms, total: 11min 13s\n",
      "Wall time: 11min 13s\n",
      "======   The model used is : svcp10   ========\n",
      "\n",
      "CPU times: user 45min 5s, sys: 327 ms, total: 45min 5s\n",
      "Wall time: 45min 5s\n",
      "======   The model used is : svcp10   ========\n",
      "\n",
      "Score as calculated for the leader board (っಠ‿ಠ)っ 0.9413402277776739\n",
      "Accuracy Score : 0.9747237593171225\n",
      "              precision    recall  f1-score   support\n",
      "\n",
      "   Unhealthy       0.98      0.98      0.98     39271\n",
      "     Healthy       0.96      0.96      0.96     18016\n",
      "\n",
      "    accuracy                           0.97     57287\n",
      "   macro avg       0.97      0.97      0.97     57287\n",
      "weighted avg       0.97      0.97      0.97     57287\n",
      "\n",
      "\n",
      "==> Accuracy Score for the test data : 97.47\n",
      "\n",
      "==> The SPEARMAN CORRELATION of the test data is : 94.13\n"
     ]
    },
    {
     "data": {
      "image/png": "[encoded data removed]",
      "text/plain": [
       "<Figure size 432x288 with 2 Axes>"
      ]
     },
     "metadata": {
      "needs_background": "light"
     },
     "output_type": "display_data"
    },
    {
     "name": "stdout",
     "output_type": "stream",
     "text": [
      "CPU times: user 11min 11s, sys: 247 ms, total: 11min 11s\n",
      "Wall time: 11min 11s\n",
      "======   The model used is : svcp11   ========\n",
      "\n",
      "CPU times: user 45min 12s, sys: 405 ms, total: 45min 12s\n",
      "Wall time: 45min 12s\n",
      "======   The model used is : svcp11   ========\n",
      "\n",
      "Score as calculated for the leader board (っಠ‿ಠ)っ 0.9427298775499104\n",
      "Accuracy Score : 0.9753347181734076\n",
      "              precision    recall  f1-score   support\n",
      "\n",
      "   Unhealthy       0.98      0.98      0.98     39271\n",
      "     Healthy       0.96      0.96      0.96     18016\n",
      "\n",
      "    accuracy                           0.98     57287\n",
      "   macro avg       0.97      0.97      0.97     57287\n",
      "weighted avg       0.98      0.98      0.98     57287\n",
      "\n",
      "\n",
      "==> Accuracy Score for the test data : 97.53\n",
      "\n",
      "==> The SPEARMAN CORRELATION of the test data is : 94.27\n"
     ]
    },
    {
     "data": {
      "image/png": "[encoded data removed]",
      "text/plain": [
       "<Figure size 432x288 with 2 Axes>"
      ]
     },
     "metadata": {
      "needs_background": "light"
     },
     "output_type": "display_data"
    },
    {
     "name": "stdout",
     "output_type": "stream",
     "text": [
      "CPU times: user 10min 58s, sys: 216 ms, total: 10min 59s\n",
      "Wall time: 10min 58s\n",
      "======   The model used is : svcp12   ========\n",
      "\n",
      "CPU times: user 47min 23s, sys: 430 ms, total: 47min 23s\n",
      "Wall time: 47min 23s\n",
      "======   The model used is : svcp12   ========\n",
      "\n",
      "Score as calculated for the leader board (っಠ‿ಠ)っ 0.9422487948881371\n",
      "Accuracy Score : 0.9751601585001833\n",
      "              precision    recall  f1-score   support\n",
      "\n",
      "   Unhealthy       0.98      0.98      0.98     39271\n",
      "     Healthy       0.97      0.96      0.96     18016\n",
      "\n",
      "    accuracy                           0.98     57287\n",
      "   macro avg       0.97      0.97      0.97     57287\n",
      "weighted avg       0.98      0.98      0.98     57287\n",
      "\n",
      "\n",
      "==> Accuracy Score for the test data : 97.52\n",
      "\n",
      "==> The SPEARMAN CORRELATION of the test data is : 94.22\n"
     ]
    },
    {
     "data": {
      "image/png": "[encoded data removed]",
      "text/plain": [
       "<Figure size 432x288 with 2 Axes>"
      ]
     },
     "metadata": {
      "needs_background": "light"
     },
     "output_type": "display_data"
    },
    {
     "name": "stdout",
     "output_type": "stream",
     "text": [
      "CPU times: user 10min 36s, sys: 246 ms, total: 10min 36s\n",
      "Wall time: 10min 36s\n",
      "        SPEARMAN CORRELATION  Accuracy Score  F1 Score macro  \\\n",
      "sgdb               53.581960       80.087978       76.787315   \n",
      "svcp5              91.422102       96.301081       95.711049   \n",
      "svcp6              92.266642       96.665910       96.133320   \n",
      "svcp7              92.856217       96.919022       96.428097   \n",
      "svcp8              93.442199       97.172133       96.721097   \n",
      "svcp9              93.861719       97.353675       96.930857   \n",
      "svcp10             94.134023       97.472376       97.066935   \n",
      "svcp11             94.272988       97.533472       97.136233   \n",
      "svcp12             94.224879       97.516016       97.110893   \n",
      "\n",
      "        F1 Score weighted  \n",
      "sgdb            80.034958  \n",
      "svcp5           96.301275  \n",
      "svcp6           96.665760  \n",
      "svcp7           96.919415  \n",
      "svcp8           97.172303  \n",
      "svcp9           97.353516  \n",
      "svcp10          97.471538  \n",
      "svcp11          97.531964  \n",
      "svcp12          97.512295  \n"
     ]
    }
   ],
   "source": [
    "for degree in range(5,13):\n",
    "    svcp = SVC(kernel='poly', degree=degree, random_state=42) # Polynomial Kernel\n",
    "    models = dict([(f'svcp{degree}', svcp)])\n",
    "    for md_ in models.keys():\n",
    "        %time model_target[md_] = fit_model(X_train, y_train, md_)\n",
    "        %time prediction_hackathon( X_test, y_test, model_target[md_], md_)\n",
    "\n",
    "print(df_accuracy)"
   ]
  },
  {
   "cell_type": "code",
   "execution_count": null,
   "metadata": {},
   "outputs": [],
   "source": [
    "# Stop execution before submission !!!\n",
    "raise SystemExit(\"Stop right there!\")"
   ]
  },
  {
   "cell_type": "markdown",
   "metadata": {},
   "source": [
    "##### SVM model"
   ]
  },
  {
   "cell_type": "code",
   "execution_count": null,
   "metadata": {},
   "outputs": [],
   "source": [
    "%%time\n",
    "\n",
    "# svcg = SVC(kernel='rbf', probability=True, random_state=42) # Gaussien Kernel\n",
    "# svcp3 = SVC(kernel='poly', degree=3, probability=True, random_state=42) # Polynomial Kernel\n",
    "\n",
    "# models = dict([('svcp3', svcp3)])\n",
    "\n",
    "for kernel in ['rbf', 'sigmoid', 'poly', 'linear']:\n",
    "  svcp = SVC(kernel=kernel, random_state=42) # Polynomial Kernel\n",
    "  models = dict([(f'svcp{kernel}', svcp)])\n",
    "  for md in models.keys():\n",
    "    %time model_target[md] = prediction_hackathon(X_train, X_test, y_train, y_test, md)\n",
    "\n",
    "display(df_accuracy)"
   ]
  },
  {
   "cell_type": "code",
   "execution_count": null,
   "metadata": {},
   "outputs": [],
   "source": [
    "for degree in range(2,13):\n",
    "  svcp = SVC(kernel='poly', degree=degree, random_state=42) # Polynomial Kernel\n",
    "  models = dict([(f'svcp{degree}', svcp)])\n",
    "  for md in models.keys():\n",
    "    %time model_target[md] = prediction_hackathon(X_train, X_test, y_train, y_test, md)\n",
    "\n",
    "display(df_accuracy)"
   ]
  },
  {
   "cell_type": "markdown",
   "metadata": {},
   "source": [
    "### Find the SVM Classifier optimal hyperparameters"
   ]
  },
  {
   "cell_type": "code",
   "execution_count": null,
   "metadata": {},
   "outputs": [],
   "source": [
    "# Finding optimal parameters\n",
    "\n",
    "svc = SVC(random_state=42)\n",
    "\n",
    "parameters = {\n",
    "              'C': [.5,.7,1,1.2,1.5,2],\n",
    "              'gamma': ['scale'],\n",
    "              'kernel': ['poly'],\n",
    "              'degree': [6],              \n",
    "            }\n",
    "\n",
    "grid = GridSearchCV(estimator  = svc, scoring=\"f1\", refit=True, \n",
    "                          param_grid = parameters, \n",
    "                          cv = 5, verbose = 10, \n",
    "                          n_jobs = -1)\n",
    "\n",
    "# grid = RandomizedSearchCV(estimator  = etc, scoring=\"f1_weighted\",\n",
    "#                           param_distributions = parameters, \n",
    "#                           n_iter = 500, cv = 3, verbose = 2, \n",
    "#                           random_state = 42, n_jobs = -1)\n",
    "\n",
    "grid.fit(X_train, y_train)\n",
    "\n",
    "# Dictionary of best parameters\n",
    "best_pars = grid.best_params_\n",
    "print(best_pars)\n",
    "\n",
    "# Best ETC model that was found based on the metric score you specify\n",
    "best_model = grid.best_estimator_\n",
    "\n",
    "# # Save model\n",
    "# pickle.dump(grid.best_estimator_, open(\"xgb_log_reg.pickle\", \"wb\"))\n",
    "\n",
    "models = dict([('best_model', best_model)])\n",
    "\n",
    "for md in models.keys():\n",
    "  %time model_target[md] = prediction_hackathon(X_train, X_test, y_train, y_test, md)\n",
    "\n",
    "print(df_accuracy)"
   ]
  },
  {
   "cell_type": "markdown",
   "metadata": {},
   "source": [
    "### Find the XGBoost optimal hyperparameters\n",
    "[Paramètres XGBoost](https://xgboost.readthedocs.io/en/latest/parameter.html#additional-parameters-for-hist-and-gpu-hist-tree-method)"
   ]
  },
  {
   "cell_type": "code",
   "execution_count": null,
   "metadata": {},
   "outputs": [],
   "source": [
    "# Finding optimal parameters\n",
    "\n",
    "xgc = xgb.XGBClassifier(use_label_encoder=False, objective='multi:softmax', eval_metric='mlogloss', n_jobs=-1, verbosity=2)\n",
    "\n",
    "parameters = {\n",
    "     \"booster\"          : [\"gbtree\", \"gblinear\", \"dart\"],\n",
    "     \"eta\"              : [0.001, 0.01, 0.1, 0.30, 0.4] ,\n",
    "     \"max_depth\"        : [ 3, 4, 5, 6],\n",
    "     \"min_child_weight\" : [ 1, 5, 7],\n",
    "     \"gamma\"            : [ 0, 0.1, 0.3, 0.5, 0.7, 1],\n",
    "     \"colsample_bytree\" : [ 0.1, 0.3, 0.5, 1],\n",
    "     \"n_estimators\"     : [50, 100, 150],\n",
    "     \"subsample\"        : [0.5, 1],\n",
    "     \"tree_method\"      : [\"auto\",\"hist\",\"gpu_hist\"],\n",
    "     \"reg_alpha\"        : [0, 1e-5, 1e-2, 0.1, 1]\n",
    "     }\n",
    "# grid = GridSearchCV(xgc,\n",
    "#                     parameters, n_jobs=-1,\n",
    "#                     scoring=\"roc_auc\",\n",
    "#                     cv=2)\n",
    "\n",
    "grid = RandomizedSearchCV(estimator  = xgc, scoring=\"f1_weighted\",\n",
    "                          param_distributions = parameters, \n",
    "                          n_iter = 500, cv = 3, verbose = 2, \n",
    "                          random_state = 42, n_jobs = -1)\n",
    "\n",
    "# Finding the optimal parameters\n",
    "X_optrain, X_optest, y_optrain, y_optest = train_test_split(df_all[col1+col_ho], df_all['cow_state'].astype(int), train_size=0.1, random_state=42)\n",
    "print(X_optrain.shape, X_optest.shape, y_optrain.shape, y_optest.shape)\n",
    "\n",
    "grid.fit(X_optrain, y_optrain)\n",
    "\n",
    "# Dictionary of best parameters\n",
    "best_pars = grid.best_params_\n",
    "print(best_pars)\n",
    "\n",
    "# Best XGB model that was found based on the metric score you specify\n",
    "best_model = grid.best_estimator_\n",
    "# # Save model\n",
    "# pickle.dump(grid.best_estimator_, open(\"xgb_log_reg.pickle\", \"wb\"))\n",
    "\n",
    "models = dict([('best_model', best_model)])\n",
    "\n",
    "%time model_target['xgc_best_model'] = prediction_hackathon(X_train, X_test, y_train, y_test, 'best_model')\n"
   ]
  },
  {
   "cell_type": "code",
   "execution_count": null,
   "metadata": {},
   "outputs": [],
   "source": [
    "print(best_pars)"
   ]
  },
  {
   "cell_type": "markdown",
   "metadata": {},
   "source": [
    "#### Extra Trees Classifier"
   ]
  },
  {
   "cell_type": "code",
   "execution_count": null,
   "metadata": {},
   "outputs": [],
   "source": [
    "# Finding optimal parameters\n",
    "\n",
    "etc  = ExtraTreesClassifier(n_jobs=-1, verbose=2)\n",
    "\n",
    "parameters = {\n",
    "              \"n_estimators\"      : range(50,600,50),\n",
    "              # \"splitter\"          : [\"best\", \"random\"],\n",
    "              \"criterion\"         : [\"gini\", \"entropy\"],\n",
    "              \"max_depth\"         : [ 3, 4, 5, 10, 15, 20],\n",
    "              \"min_samples_split\" : [2, 5, 10, 15, 20],\n",
    "              \"min_samples_leaf\"  : [2, 5, 10, 15, 20],\n",
    "              \"max_features\"      : ['auto' ,'sqrt'], \n",
    "              \"bootstrap\"         : [True, False],\n",
    "              \"max_samples\"       : [i/10 for i in range(1, 11)],\n",
    "              \"ccp_alpha\"         : [i*11/100 for i in range(1,10)]\n",
    "            }\n",
    "\n",
    "# grid = GridSearchCV(estimator  = xtc, scoring=\"f1_weighted\",\n",
    "#                           param_grid = parameters, \n",
    "#                           cv = 3, verbose = 2, \n",
    "#                           n_jobs = -1)\n",
    "\n",
    "grid = RandomizedSearchCV(estimator  = etc, scoring=\"f1_weighted\",\n",
    "                          param_distributions = parameters, \n",
    "                          n_iter = 500, cv = 3, verbose = 2, \n",
    "                          random_state = 42, n_jobs = -1)\n",
    "\n",
    "# Finding the optimal parameters\n",
    "X_optrain, X_optest, y_optrain, y_optest = train_test_split(df_all[col1+col_ho], df_all['cow_state'].astype(int), train_size=0.1, random_state=42)\n",
    "print(X_optrain.shape, X_optest.shape, y_optrain.shape, y_optest.shape)\n",
    "\n",
    "grid.fit(X_optrain, y_optrain)\n",
    "\n",
    "# Dictionary of best parameters\n",
    "best_pars = grid.best_params_\n",
    "print(best_pars)\n",
    "\n",
    "# Best ETC model that was found based on the metric score you specify\n",
    "best_model = grid.best_estimator_\n",
    "\n",
    "# # Save model\n",
    "# pickle.dump(grid.best_estimator_, open(\"xgb_log_reg.pickle\", \"wb\"))\n",
    "\n",
    "models = dict([('best_model', best_model)])\n",
    "\n"
   ]
  },
  {
   "cell_type": "code",
   "execution_count": null,
   "metadata": {},
   "outputs": [],
   "source": [
    "seuil = 0.5\n",
    "vrb_seuil = False\n",
    "model_target = {}\n",
    "\n",
    "%time model_target['etc_best_model'] = prediction_hackathon(X_train, X_test, y_train, y_test, 'best_model')"
   ]
  },
  {
   "cell_type": "code",
   "execution_count": null,
   "metadata": {},
   "outputs": [],
   "source": [
    "print(best_pars)"
   ]
  },
  {
   "cell_type": "markdown",
   "metadata": {},
   "source": [
    "#### Random Forest"
   ]
  },
  {
   "cell_type": "code",
   "execution_count": null,
   "metadata": {},
   "outputs": [],
   "source": [
    "rfc = RandomForestClassifier(n_jobs=-1, verbose=2)\n",
    "\n",
    "# Grille aléatoire \n",
    "random_grid = {\n",
    "                'bootstrap'         : [True, False],\n",
    "                'max_depth'         : [5, 6, 7], \n",
    "                'max_features'      : ['auto', 'sqrt', 'log2'], \n",
    "                'min_samples_leaf'  : [4, 5, 6], \n",
    "                'min_samples_split' : range(8,20,2), \n",
    "                'n_estimators'      : range(8,len(col1+col_ho)+4)\n",
    "               }\n",
    "\n",
    "# Recherche dans 5000 combinaisons différentes \n",
    "rf_random = RandomizedSearchCV (estimator  = rfc, scoring=\"f1_macro\",\n",
    "                                param_distributions = random_grid, \n",
    "                                n_iter = 500, cv = 3, verbose = 2, \n",
    "                                random_state = 42, n_jobs = -1)\n",
    "\n",
    "# Finding the optimal parameters\n",
    "X_optrain, X_optest, y_optrain, y_optest = train_test_split(df_all[col1+col_ho], df_all['cow_state'].astype(int), train_size=0.1, random_state=42)\n",
    "print(X_optrain.shape, X_optest.shape, y_optrain.shape, y_optest.shape)\n",
    "\n",
    "# Ajuster le modèle de recherche aléatoire \n",
    "rf_random.fit(X_optrain, y_optrain)\n",
    "\n",
    "# Dictionary of best parameters\n",
    "best_pars = rf_random.best_params_\n",
    "print(best_pars)\n",
    "\n",
    "# Best RFC model that was found based on the metric score you specify\n",
    "best_model = rf_random.best_estimator_\n",
    "\n",
    "models = dict([('best_model', best_model)])\n",
    "\n",
    "%time model_target['rfc_best_model'] = prediction_hackathon(X_train, X_test, y_train, y_test, 'best_model')"
   ]
  },
  {
   "cell_type": "code",
   "execution_count": null,
   "metadata": {},
   "outputs": [],
   "source": [
    "print(best_pars)"
   ]
  },
  {
   "cell_type": "markdown",
   "metadata": {},
   "source": [
    "### Select importances features"
   ]
  },
  {
   "cell_type": "code",
   "execution_count": null,
   "metadata": {},
   "outputs": [],
   "source": [
    "xgc = xgb.XGBClassifier(use_label_encoder=False, objective='binary:logistic', eval_metric=f1_score, n_estimators=1500, n_jobs=-1)\n",
    "\n",
    "def rfecv_func(md):\n",
    "    rfecv = RFECV(md, step=1, cv=5, n_jobs=-1, verbose=2)\n",
    "\n",
    "    rfecv.fit(X_train, y_train)\n",
    "\n",
    "    rfecv.get_params()\n",
    "\n",
    "    feat_sel = pd.DataFrame({'features' : X_train.columns, 'Rank' : rfecv.ranking_})\n",
    "    fit_feat = feat_sel[feat_sel.Rank == 1]['features'].values\n",
    "    print(f\"\\n============================\\nimportances fetures for {md}\\n\", fit_feat)\n",
    "\n",
    "models = dict([('xgc', xgc)])\n",
    "\n",
    "for md in ['xgc']:\n",
    "    rfecv_func(models[md])"
   ]
  },
  {
   "cell_type": "code",
   "execution_count": null,
   "metadata": {},
   "outputs": [],
   "source": [
    "cols = ['FOS_Mean','FOS_Mode','FOS_Skewness','FOS_Kurtosis'\n",
    ",'FOS_MinimalGrayLevel','FOS_MaximalGrayLevel','FOS_25Percentile'\n",
    ",'FOS_90Percentile','FOS_HistogramWidth','GLCM_ASM_Mean'\n",
    ",'GLCM_Contrast_Mean','GLCM_Correlation_Mean'\n",
    ",'GLCM_SumOfSquaresVariance_Mean','GLCM_SumAverage_Mean'\n",
    ",'GLCM_SumVariance_Mean','GLCM_SumEntropy_Mean'\n",
    ",'GLCM_DifferenceVariance_Mean','GLCM_DifferenceEntropy_Mean'\n",
    ",'GLCM_Information2_Mean','GLCM_MaximalCorrelationCoefficient_Mean'\n",
    ",'GLCM_Contrast_Range','GLCM_Correlation_Range'\n",
    ",'GLCM_SumOfSquaresVariance_Range','GLCM_InverseDifferenceMoment_Range'\n",
    ",'GLCM_SumAverage_Range','GLCM_SumVariance_Range','GLCM_SumEntropy_Range'\n",
    ",'GLCM_Entropy_Range','GLCM_DifferenceEntropy_Range'\n",
    ",'GLCM_Information1_Range','GLCM_Information2_Range'\n",
    ",'GLCM_MaximalCorrelationCoefficient_Range','GLDS_Homogeneity','GLDS_ASM'\n",
    ",'GLDS_Entopy','GLDS_Mean','NGTDM_Busyness','NGTDM_Strngth'\n",
    ",'SFM_Periodicity','LTE_LL_7','LTE_EE_7','LTE_LE_7','LTE_ES_7','LTE_LS_7'\n",
    ",'FDTA_HurstCoeff_1','FDTA_HurstCoeff_2','FDTA_HurstCoeff_3'\n",
    ",'FDTA_HurstCoeff_4','GLRLM_GrayLevelNo-Uniformity','GLRLM_RunPercentage'\n",
    ",'GLRLM_LowGrayLevelRunEmphasis','GLRLM_HighGrayLevelRunEmphasis'\n",
    ",'GLRLM_ShortRunHighGrayLevelEmphasis'\n",
    ",'GLRLM_LongRunHighGrayLevelEmphasis','FPS_RadialSum','FPS_AngularSum'\n",
    ",'SHAPE_area','SHAPE_perimeter2perArea','GLSZM_SmallZoneEmphasis'\n",
    ",'GLSZM_LargeZoneEmphasis','GLSZM_ZoneSizeNonuniformity'\n",
    ",'GLSZM_LowGrayLeveLZoneEmphasis','GLSZM_HighGrayLevelZoneEmphasis'\n",
    ",'GLSZM_SmallZoneLowGrayLevelEmphasis'\n",
    ",'GLSZM_SmallZoneHighGrayLevelEmphasis'\n",
    ",'GLSZM_LargeZoneHighGrayLevelEmphasis','GLSZM_GrayLevelVariance'\n",
    ",'GLSZM_ZoneSizeEntropy','LBP_R_1_P_8_energy','LBP_R_1_P_8_entropy'\n",
    ",'LBP_R_2_P_16_entropy','PDF1','PDF2','PDF4','PDF6','PDF7','PDF8','PDF9'\n",
    ",'CDF6','pdf_L2','pdf_H1','pdf_H4','pdf_H5','pdf_H6','pdf_H7','pdf_H8'\n",
    ",'cdf_L5','cdf_L8','cdf_M3','cdf_M6','cdf_M7','cdf_H5','cdf_H8'\n",
    ",'Histogram_bin_0','Histogram_bin_1','Histogram_bin_2','Histogram_bin_3'\n",
    ",'Histogram_bin_6','Histogram_bin_7','Histogram_erosion_1_bin_1'\n",
    ",'Histogram_erosion_1_bin_3','Histogram_erosion_1_bin_4'\n",
    ",'Histogram_erosion_1_bin_5','Histogram_erosion_1_bin_6'\n",
    ",'Histogram_erosion_1_bin_7','Histogram_erosion_2_bin_0'\n",
    ",'Histogram_erosion_2_bin_4','Histogram_erosion_2_bin_5'\n",
    ",'Histogram_erosion_3_bin_0','Histogram_erosion_3_bin_1'\n",
    ",'Histogram_erosion_3_bin_2','Histogram_erosion_3_bin_3'\n",
    ",'Histogram_erosion_3_bin_4','Correlogram_dist_0_5','Correlogram_dist_1_0'\n",
    ",'Correlogram_dist_1_1','Correlogram_dist_1_5','Correlogram_dist_2_0'\n",
    ",'Correlogram_dist_2_1','Correlogram_dist_2_4','Correlogram_dist_2_5'\n",
    ",'Correlogram_dist_2_6','Correlogram_dist_3_0','Correlogram_dist_3_1'\n",
    ",'Correlogram_dist_3_2','Correlogram_dist_3_3','Correlogram_dist_3_5'\n",
    ",'Correlogram_dist_3_6','Correlogram_dist_4_0','Correlogram_dist_4_2'\n",
    ",'Correlogram_dist_4_5','Correlogram_dist_5_0','Correlogram_dist_5_1'\n",
    ",'Correlogram_dist_5_2','Correlogram_dist_5_3','Correlogram_dist_5_5'\n",
    ",'Correlogram_dist_5_6','Correlogram_dist_5_7','Correlogram_dist_6_0'\n",
    ",'Correlogram_dist_6_1','Correlogram_dist_6_2','Correlogram_dist_6_3'\n",
    ",'Correlogram_dist_6_6','Correlogram_dist_6_7','Correlogram_dist_7_0'\n",
    ",'Correlogram_dist_7_1','Correlogram_dist_7_2','Correlogram_dist_7_3'\n",
    ",'Correlogram_dist_7_5','Correlogram_dist_7_6','Correlogram_dist_7_7'\n",
    ",'Correlogram_angl_0_3','Correlogram_angl_1_0','Correlogram_angl_1_2'\n",
    ",'Correlogram_angl_2_1','Correlogram_angl_2_2','Correlogram_angl_3_2'\n",
    ",'Correlogram_angl_3_3','Correlogram_angl_4_1','Correlogram_angl_5_2'\n",
    ",'Correlogram_angl_5_3','Correlogram_angl_6_0','Correlogram_angl_7_4'\n",
    ",'Correlogram_angl_7_5','DWT_bior3.3_level_1_da_mean'\n",
    ",'DWT_bior3.3_level_1_da_std','DWT_bior3.3_level_1_dd_mean'\n",
    ",'DWT_bior3.3_level_1_dd_std','DWT_bior3.3_level_1_ad_std'\n",
    ",'DWT_bior3.3_level_2_da_mean','DWT_bior3.3_level_2_da_std'\n",
    ",'DWT_bior3.3_level_2_dd_mean','DWT_bior3.3_level_2_dd_std'\n",
    ",'DWT_bior3.3_level_2_ad_mean','DWT_bior3.3_level_2_ad_std'\n",
    ",'DWT_bior3.3_level_3_dd_std','DWT_bior3.3_level_3_ad_std'\n",
    ",'SWT_bior3.3_level_1_h_mean','SWT_bior3.3_level_1_d_mean'\n",
    ",'SWT_bior3.3_level_1_d_std','SWT_bior3.3_level_2_d_std'\n",
    ",'SWT_bior3.3_level_3_d_mean','SWT_bior3.3_level_3_d_std'\n",
    ",'WP_coif1_ah_std','WP_coif1_av_std','WP_coif1_ad_mean','WP_coif1_ad_std'\n",
    ",'WP_coif1_ha_std','WP_coif1_hh_mean','WP_coif1_va_std','WP_coif1_da_std'\n",
    ",'WP_coif1_dh_std','WP_coif1_dv_std','WP_coif1_dd_std'\n",
    ",'GT_th_0.0_freq_0.05_mean','GT_th_0.0_freq_0.05_std'\n",
    ",'GT_th_0.0_freq_0.4_mean','GT_th_1.0_freq_0.05_mean'\n",
    ",'GT_th_1.0_freq_0.05_std','GT_th_2.0_freq_0.05_mean'\n",
    ",'GT_th_2.0_freq_0.05_std','GT_th_2.0_freq_0.4_mean'\n",
    ",'GT_th_2.0_freq_0.4_std','GT_th_3.0_freq_0.05_std','Hu_Moment_1'\n",
    ",'Hu_Moment_3','TAS1','TAS2','TAS4','TAS5','TAS8','TAS9','TAS11','TAS12'\n",
    ",'TAS17','TAS19','TAS21','TAS22','TAS27','TAS28','TAS29','TAS30','TAS31'\n",
    ",'TAS32','TAS35','TAS38','TAS43','TAS44','TAS45','TAS47','TAS48','TAS49']\n",
    "\n",
    "len(cols)"
   ]
  },
  {
   "cell_type": "code",
   "execution_count": null,
   "metadata": {},
   "outputs": [],
   "source": [
    "%%time\n",
    "# xgb.set_config(verbosity=3)\n",
    "xgcRFE = xgb.XGBClassifier(use_label_encoder=False, objective='binary:logistic', eval_metric=f1_score, n_estimators=3000, n_jobs=-1)\n",
    "\n",
    "seuil = 0.5\n",
    "vrb_seuil = False\n",
    "df_accuracy  = pd.DataFrame()\n",
    "models = dict([('xgcRFE', xgcRFE)])\n",
    "\n",
    "for md in models.keys():\n",
    "  %time model_target[md] = prediction_hackathon(X_train[cols], X_test[cols], y_train, y_test, md)\n",
    "\n",
    "print(df_accuracy)"
   ]
  },
  {
   "cell_type": "code",
   "execution_count": null,
   "metadata": {},
   "outputs": [],
   "source": [
    "%%time\n",
    "svcRFE = SVC(kernel='poly', degree=6, random_state=42) # Polynomial Kernel\n",
    "\n",
    "models = dict([('svcRFE', svcRFE)])\n",
    "model_target ={}\n",
    "\n",
    "for md in models.keys():\n",
    "  %time model_target[md] = prediction_hackathon(X_train[cols], X_test[cols], y_train, y_test, md)\n",
    "\n",
    "print(df_accuracy)"
   ]
  }
 ],
 "metadata": {
  "kernelspec": {
   "display_name": "Python 3.8.12 64-bit ('3.8.12')",
   "language": "python",
   "name": "python3"
  },
  "language_info": {
   "codemirror_mode": {
    "name": "ipython",
    "version": 3
   },
   "file_extension": ".py",
   "mimetype": "text/x-python",
   "name": "python",
   "nbconvert_exporter": "python",
   "pygments_lexer": "ipython3",
   "version": "3.8.12"
  },
  "vscode": {
   "interpreter": {
    "hash": "6c958d2143055910aa3d08f84ca33bcc1a3210880a8d4b45e906172be59655c6"
   }
  }
 },
 "nbformat": 4,
 "nbformat_minor": 4
}
