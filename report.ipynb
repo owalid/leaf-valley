{
 "cells": [
  {
   "cell_type": "code",
   "execution_count": null,
   "metadata": {},
   "outputs": [],
   "source": [
    "# imports\n"
   ]
  },
  {
   "cell_type": "markdown",
   "metadata": {},
   "source": [
    "# Background removal"
   ]
  },
  {
   "cell_type": "markdown",
   "metadata": {},
   "source": [
    "# Deep learning"
   ]
  },
  {
   "cell_type": "markdown",
   "metadata": {},
   "source": [
    "### Models"
   ]
  },
  {
   "cell_type": "markdown",
   "metadata": {},
   "source": [
    "We have try different models to classify the images.\n",
    "\n",
    "- RESNET50\n",
    "- RESNET50V2\n",
    "- INCEPTIONRESNETV2\n",
    "- INCEPTIONV3\n",
    "- EFFICIENTNETB0\n",
    "- CLASSIC CNN\n",
    "- CONVNEXT\n",
    "- LAB AND HSV PROCESS [see this link](https://github.com/joaopauloschuler/two-path-noise-lab-plant-disease)"
   ]
  },
  {
   "cell_type": "markdown",
   "metadata": {},
   "source": [
    "### Data preprocessing"
   ]
  },
  {
   "cell_type": "markdown",
   "metadata": {},
   "source": [
    "We have try different data preprocessing techniques.\n",
    "\n",
    "- Image augmentation\n",
    "- Image normalization\n",
    "- Image resizing\n",
    "- Image cropping\n",
    "- Image without background"
   ]
  },
  {
   "cell_type": "markdown",
   "metadata": {},
   "source": [
    "### Results"
   ]
  },
  {
   "cell_type": "markdown",
   "metadata": {},
   "source": [
    "<table>\n",
    "  <tr>\n",
    "    <th>Ranking</th>\n",
    "    <th>Model</th>\n",
    "    <th>Preprocessing</th>\n",
    "    <th>Number of images per classes</th>\n",
    "    <th>Accuracy (validation)</th>\n",
    "    <th>Size image</th>\n",
    "    <th>Time (in minutes)</th>\n",
    "  </tr>\n",
    "\n",
    "   <tr>\n",
    "    <td>1 🥇</td>\n",
    "    <td>CONVNEXT</td>\n",
    "    <td></td>\n",
    "    <td>1100</td>\n",
    "    <td>0.9882</td>\n",
    "    <td>224x224</td>\n",
    "    <td>150</td>\n",
    "  </tr>\n",
    "   <tr>\n",
    "    <td>0</td>\n",
    "    <td>CONVNEXT</td>\n",
    "    <td></td>\n",
    "    <td>1100</td>\n",
    "    <td>0.9849</td>\n",
    "    <td>128x128</td>\n",
    "    <td>50</td>\n",
    "  </tr>\n",
    "  <tr>\n",
    "    <td>0</td>\n",
    "    <td>CONVNEXT</td>\n",
    "    <td></td>\n",
    "    <td>4500</td>\n",
    "    <td>0.9879</td>\n",
    "    <td>64x64</td>\n",
    "    <td>120</td>\n",
    "  </tr>\n",
    "  <tr>\n",
    "    <td>0</td>\n",
    "    <td>CONVNEXT</td>\n",
    "    <td></td>\n",
    "    <td>750</td>\n",
    "    <td>0.9815</td>\n",
    "    <td>224x224</td>\n",
    "    <td>80</td>\n",
    "  </tr>\n",
    "  <tr>\n",
    "    <td>2 🥈</td>\n",
    "    <td>RESNET50</td>\n",
    "    <td></td>\n",
    "    <td>1100</td>\n",
    "    <td>0.9717</td>\n",
    "    <td>128x128</td>\n",
    "    <td>20</td>\n",
    "  </tr>\n",
    "  <tr>\n",
    "    <td>3 🥉</td>\n",
    "    <td>EFFICIENTNETB7</td>\n",
    "    <td></td>\n",
    "    <td>1100</td>\n",
    "    <td>0.9729</td>\n",
    "    <td>128x128</td>\n",
    "    <td>108</td>\n",
    "  </tr>\n",
    "  <tr>\n",
    "    <td>0</td>\n",
    "    <td>VGG16</td>\n",
    "    <td></td>\n",
    "    <td>1100</td>\n",
    "    <td>0.9707</td>\n",
    "    <td>128x128</td>\n",
    "    <td>20</td>\n",
    "  </tr>\n",
    "  <tr>\n",
    "    <td>0</td>\n",
    "    <td>XCEPTION</td>\n",
    "    <td></td>\n",
    "    <td>1100</td>\n",
    "    <td>0.9686</td>\n",
    "    <td>128x128</td>\n",
    "    <td>53</td>\n",
    "  </tr>\n",
    "  <tr>\n",
    "    <td>0</td>\n",
    "    <td>EFFICIENTNETB0</td>\n",
    "    <td></td>\n",
    "    <td>1100</td>\n",
    "    <td>0.9641</td>\n",
    "    <td>128x128</td>\n",
    "    <td>25</td>\n",
    "  </tr>\n",
    "\n",
    "  <tr>\n",
    "    <td>0</td>\n",
    "    <td>LAB_PROCESS</td>\n",
    "    <td>Image normalization + lab images</td>\n",
    "    <td>1000</td>\n",
    "    <td>0.9651</td>\n",
    "    <td>128x128</td>\n",
    "    <td>50</td>\n",
    "  </tr>\n",
    "\n",
    "  <tr>\n",
    "    <td>0</td>\n",
    "    <td>INCEPTIONV3</td>\n",
    "    <td>min_max image normalization</td>\n",
    "    <td>1300</td>\n",
    "    <td>0.9583</td>\n",
    "    <td>128x128</td>\n",
    "    <td>110</td>\n",
    "  </tr>\n",
    "\n",
    "  <tr>\n",
    "    <td>0</td>\n",
    "    <td>CONVNEXT</td>\n",
    "    <td>Image normalization</td>\n",
    "    <td>1100</td>\n",
    "    <td>0.9594</td>\n",
    "    <td>128x128</td>\n",
    "    <td>65</td>\n",
    "  </tr>\n",
    "\n",
    "  <tr>\n",
    "    <td>0</td>\n",
    "    <td>INCEPTIONRESNETV2</td>\n",
    "    <td></td>\n",
    "    <td>1100</td>\n",
    "    <td>0.9548</td>\n",
    "    <td>128x128</td>\n",
    "    <td>86</td>\n",
    "  </tr>\n",
    "\n",
    "   <tr>\n",
    "    <td>0</td>\n",
    "    <td>RESNET50V2</td>\n",
    "    <td></td>\n",
    "    <td>1100</td>\n",
    "    <td>0.9419</td>\n",
    "    <td>128x128</td>\n",
    "    <td>33</td>\n",
    "  </tr>\n",
    "\n",
    "\n",
    "  <tr>\n",
    "    <td>0</td>\n",
    "    <td>INCEPTIONV3</td>\n",
    "    <td></td>\n",
    "    <td>1100</td>\n",
    "    <td>0.939</td>\n",
    "    <td>128x128</td>\n",
    "    <td>34</td>\n",
    "  </tr>\n",
    "\n",
    "\n",
    "  <tr>\n",
    "    <td>0</td>\n",
    "    <td>CLASSIC_CNN</td>\n",
    "    <td></td>\n",
    "    <td>1100</td>\n",
    "    <td>0.8087</td>\n",
    "    <td>128x128</td>\n",
    "    <td>45</td>\n",
    "  </tr>\n",
    "\n",
    "  <tr>\n",
    "    <td>0</td>\n",
    "    <td>ALEXNET</td>\n",
    "    <td></td>\n",
    "    <td>1100</td>\n",
    "    <td>0.7979</td>\n",
    "    <td>128x128</td>\n",
    "    <td>20</td>\n",
    "  </tr>\n",
    "</table>"
   ]
  },
  {
   "cell_type": "markdown",
   "metadata": {},
   "source": [
    "\n",
    "# TODO\n",
    "- INCEPTIONV3 with normalization and 25 epochs [ok]\n",
    "- RESNET50V2 [ok]\n",
    "- XCEPTION [ok]\n",
    "- CONVNEXT without preprocessing and 1250 images per class [ok]\n",
    "- LAB_INCEPTIONV3 []"
   ]
  },
  {
   "cell_type": "code",
   "execution_count": 2,
   "metadata": {},
   "outputs": [
    {
     "name": "stdout",
     "output_type": "stream",
     "text": [
      "The tensorboard extension is already loaded. To reload it, use:\n",
      "  %reload_ext tensorboard\n"
     ]
    },
    {
     "data": {
      "text/html": [
       "\n",
       "      <iframe id=\"tensorboard-frame-cbb2ab4e4fef7033\" width=\"100%\" height=\"800\" frameborder=\"0\">\n",
       "      </iframe>\n",
       "      <script>\n",
       "        (function() {\n",
       "          const frame = document.getElementById(\"tensorboard-frame-cbb2ab4e4fef7033\");\n",
       "          const url = new URL(\"/\", window.location);\n",
       "          const port = 6007;\n",
       "          if (port) {\n",
       "            url.port = port;\n",
       "          }\n",
       "          frame.src = url;\n",
       "        })();\n",
       "      </script>\n",
       "    "
      ],
      "text/plain": [
       "<IPython.core.display.HTML object>"
      ]
     },
     "metadata": {},
     "output_type": "display_data"
    }
   ],
   "source": [
    "%load_ext tensorboard\n",
    "%tensorboard --logdir data/logs_scaleway/06-07-2022/INCEPTIONV3_PRETRAINED"
   ]
  }
 ],
 "metadata": {
  "kernelspec": {
   "display_name": "Python 3.7.12 64-bit ('3.7.12')",
   "language": "python",
   "name": "python3"
  },
  "language_info": {
   "codemirror_mode": {
    "name": "ipython",
    "version": 3
   },
   "file_extension": ".py",
   "mimetype": "text/x-python",
   "name": "python",
   "nbconvert_exporter": "python",
   "pygments_lexer": "ipython3",
   "version": "3.7.12"
  },
  "orig_nbformat": 4,
  "vscode": {
   "interpreter": {
    "hash": "334bd7d9bea05864ff0df6847fc9b695fdb5ef08b7f431311c642708019f0c4f"
   }
  }
 },
 "nbformat": 4,
 "nbformat_minor": 2
}
