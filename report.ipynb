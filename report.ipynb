{
 "cells": [
  {
   "cell_type": "code",
   "execution_count": null,
   "metadata": {},
   "outputs": [],
   "source": [
    "# imports\n"
   ]
  },
  {
   "cell_type": "markdown",
   "metadata": {},
   "source": [
    "# Background removal"
   ]
  },
  {
   "cell_type": "markdown",
   "metadata": {},
   "source": [
    "# Deep learning"
   ]
  },
  {
   "cell_type": "markdown",
   "metadata": {},
   "source": [
    "### Models"
   ]
  },
  {
   "cell_type": "markdown",
   "metadata": {},
   "source": [
    "We have try different models to classify the images.\n",
    "\n",
    "- RESNET50\n",
    "- RESNET50V2\n",
    "- INCEPTIONRESNETV2\n",
    "- INCEPTIONV3\n",
    "- EFFICIENTNETB0\n",
    "- CLASSIC CNN\n",
    "- CONVNEXT\n",
    "- LAB AND HSV PROCESS [see this link](https://github.com/joaopauloschuler/two-path-noise-lab-plant-disease)"
   ]
  },
  {
   "cell_type": "markdown",
   "metadata": {},
   "source": [
    "### Data preprocessing"
   ]
  },
  {
   "cell_type": "markdown",
   "metadata": {},
   "source": [
    "We have try different data preprocessing techniques.\n",
    "\n",
    "- Image augmentation\n",
    "- Image normalization\n",
    "- Image resizing\n",
    "- Image cropping\n",
    "- Image without background"
   ]
  },
  {
   "cell_type": "markdown",
   "metadata": {},
   "source": [
    "### Results"
   ]
  },
  {
   "cell_type": "markdown",
   "metadata": {},
   "source": [
    "<table>\n",
    "  <tr>\n",
    "    <th>Model</th>\n",
    "    <th>Preprocessing</th>\n",
    "    <th>Number of images per classes</th>\n",
    "    <th>Accuracy</th>\n",
    "    <th>Size image</th>\n",
    "    <th>Time (in minutes)</th>\n",
    "  </tr>\n",
    "\n",
    "  <!-- RESNET50 -->\n",
    "  <tr>\n",
    "    <td>RESNET50</td>\n",
    "    <td>Image normalization</td>\n",
    "    <td>1000</td>\n",
    "    <td>0.9</td>\n",
    "    <td>128x128</td>\n",
    "    <td>0.5</td>\n",
    "  </tr>\n",
    "  <tr>\n",
    "    <td>RESNET50</td>\n",
    "    <td>Image augmentation</td>\n",
    "    <td>1000</td>\n",
    "    <td>0.9</td>\n",
    "    <td>128x128</td>\n",
    "    <td>0.5</td>\n",
    "  </tr>\n",
    "  <tr>\n",
    "    <td>RESNET50</td>\n",
    "    <td></td>\n",
    "    <td>1100</td>\n",
    "    <td>0.9</td>\n",
    "    <td>128x128</td>\n",
    "    <td></td>\n",
    "  </tr>\n",
    "\n",
    "  <!-- RESNET50V2 -->\n",
    "  <tr>\n",
    "    <td>RESNET50V2</td>\n",
    "    <td>Image normalization</td>\n",
    "    <td>1000</td>\n",
    "    <td>0.9</td>\n",
    "    <td>128x128</td>\n",
    "    <td>0.5</td>\n",
    "  </tr>\n",
    "  <tr>\n",
    "    <td>RESNET50V2</td>\n",
    "    <td>Image augmentation</td>\n",
    "    <td>1000</td>\n",
    "    <td>0.9</td>\n",
    "    <td>128x128</td>\n",
    "    <td>0.5</td>\n",
    "  </tr>\n",
    "\n",
    "  <!-- EFFICIENTNETV2 -->\n",
    "  <tr>\n",
    "    <td>EFFICIENTNETV2</td>\n",
    "    <td>Image normalization</td>\n",
    "    <td>1000</td>\n",
    "    <td>0.9</td>\n",
    "    <td>128x128</td>\n",
    "    <td>0.5</td>\n",
    "  </tr>\n",
    "  <tr>\n",
    "    <td>EFFICIENTNETV2</td>\n",
    "    <td>Image augmentation</td>\n",
    "    <td>1000</td>\n",
    "    <td>0.9</td>\n",
    "    <td>128x128</td>\n",
    "    <td>0.5</td>\n",
    "  </tr>\n",
    "\n",
    "  <!-- INCEPTIONRESNETV2 -->\n",
    "  <tr>\n",
    "    <td>INCEPTIONRESNETV2</td>\n",
    "    <td></td>\n",
    "    <td>1100</td>\n",
    "    <td>0.9548</td>\n",
    "    <td>128x128</td>\n",
    "    <td>86</td>\n",
    "  </tr>\n",
    "\n",
    "  <!-- INCEPTIONV3 -->\n",
    "  <tr>\n",
    "    <td>INCEPTIONV3</td>\n",
    "    <td></td>\n",
    "    <td>1100</td>\n",
    "    <td>0.939</td>\n",
    "    <td>128x128</td>\n",
    "    <td>34</td>\n",
    "  </tr>\n",
    "\n",
    "  <!-- CONVNEXT -->\n",
    "  <tr>\n",
    "    <td>CONVNEXT</td>\n",
    "    <td></td>\n",
    "    <td>1100</td>\n",
    "    <td>0.9849</td>\n",
    "    <td>128x128</td>\n",
    "    <td>50</td>\n",
    "  </tr>\n",
    "  <tr>\n",
    "    <td>CONVNEXT</td>\n",
    "    <td>Image normalization</td>\n",
    "    <td>1100</td>\n",
    "    <td>0.9594</td>\n",
    "    <td>128x128</td>\n",
    "    <td>65</td>\n",
    "  </tr>\n",
    "\n",
    "  <!-- LAB_PROCESS -->\n",
    "  <tr>\n",
    "    <td>LAB_PROCESS</td>\n",
    "    <td>Image normalization + lab images</td>\n",
    "    <td>1000</td>\n",
    "    <td>0.9651</td>\n",
    "    <td>128x128</td>\n",
    "    <td>50</td>\n",
    "  </tr>\n",
    "\n",
    "  <!-- HSV_PROCESS -->\n",
    "  <tr>\n",
    "    <td>HSV_PROCESS</td>\n",
    "    <td>Image normalization</td>\n",
    "    <td>1000</td>\n",
    "    <td>0.9</td>\n",
    "    <td>128x128</td>\n",
    "    <td>0.5</td>\n",
    "  </tr>\n",
    "</table>"
   ]
  }
 ],
 "metadata": {
  "language_info": {
   "name": "python"
  },
  "orig_nbformat": 4
 },
 "nbformat": 4,
 "nbformat_minor": 2
}
